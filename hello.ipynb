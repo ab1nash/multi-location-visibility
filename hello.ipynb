{
 "metadata": {
  "language_info": {
   "codemirror_mode": {
    "name": "ipython",
    "version": 3
   },
   "file_extension": ".py",
   "mimetype": "text/x-python",
   "name": "python",
   "nbconvert_exporter": "python",
   "pygments_lexer": "ipython3",
   "version": "3.8.5"
  },
  "orig_nbformat": 2,
  "kernelspec": {
   "name": "python3",
   "display_name": "Python 3.8.5 64-bit",
   "metadata": {
    "interpreter": {
     "hash": "0adcc2737ebf6a4a119f135174df96668767fca1ef1112612db5ecadf2b6d608"
    }
   }
  }
 },
 "nbformat": 4,
 "nbformat_minor": 2,
 "cells": [
  {
   "cell_type": "code",
   "execution_count": 159,
   "metadata": {},
   "outputs": [
    {
     "output_type": "execute_result",
     "data": {
      "text/plain": [
       "'1.1.1'"
      ]
     },
     "metadata": {},
     "execution_count": 159
    }
   ],
   "source": [
    "import fiona\n",
    "import networkx as nx\n",
    "import osmnx as ox\n",
    "import geopandas as gp\n",
    "from shapely.geometry import box\n",
    "\n",
    "from random import random\n",
    "\n",
    "%matplotlib inline\n",
    "ox.config(log_console=True)\n",
    "ox.__version__"
   ]
  },
  {
   "cell_type": "code",
   "execution_count": 160,
   "metadata": {
    "tags": []
   },
   "outputs": [
    {
     "output_type": "stream",
     "name": "stdout",
     "text": [
      "(105, 58)\n"
     ]
    }
   ],
   "source": [
    "# get all building footprints in some neighborhood\n",
    "place = \"Bunker Hill, Los Angeles, California\"\n",
    "tags = {\"building\": True}\n",
    "gdf = ox.geometries_from_address(place, tags, dist = 400) # distance in meters\n",
    "print(gdf.shape)"
   ]
  },
  {
   "cell_type": "code",
   "execution_count": 161,
   "metadata": {},
   "outputs": [
    {
     "output_type": "stream",
     "name": "stdout",
     "text": [
      "(42, 59)\n",
      "<ipython-input-161-9a09e330a346>:15: UserWarning: Geometry is in a geographic CRS. Results from 'centroid' are likely incorrect. Use 'GeoSeries.to_crs()' to re-project geometries to a projected CRS before this operation.\n",
      "\n",
      "  gdf['centroid'] = gdf.centroid\n"
     ]
    }
   ],
   "source": [
    "'''\n",
    "    Preprocessing our GeoDataFrame\n",
    "\n",
    "        1. Simplifying building geometries\n",
    "        2. Adding centroids\n",
    "        x. Removing some obstacles randomly (not for prod?)\n",
    "'''\n",
    "\n",
    "# envelope : convert to rectangles, simplify: reduce edges (also see shapely/geopandas docs)\n",
    "# simple = gdf['geometry'].simplify(0.5)\n",
    "simple = gdf['geometry'].envelope\n",
    "gdf['geometry'] = simple\n",
    "\n",
    "# gdf = gdf.set_crs(\"EPSG:3035\", allow_override=True)\n",
    "gdf['centroid'] = gdf.centroid\n",
    "\n",
    "gdf = gdf.sample(frac=0.4)\n",
    "print(gdf.shape)\n"
   ]
  },
  {
   "cell_type": "code",
   "execution_count": 152,
   "metadata": {},
   "outputs": [],
   "source": [
    "# gdf['geometry'].to_file(\"test\")\n",
    "# gdf['geometry'].to_csv(\"test2.csv\")"
   ]
  },
  {
   "cell_type": "code",
   "execution_count": 153,
   "metadata": {},
   "outputs": [],
   "source": [
    "# fig, ax = ox.plot_footprints(gdf, figsize=(6, 6), color=\"blue\", bgcolor = \"white\")"
   ]
  },
  {
   "cell_type": "code",
   "execution_count": 162,
   "metadata": {},
   "outputs": [
    {
     "output_type": "execute_result",
     "data": {
      "text/plain": [
       "<AxesSubplot:>"
      ]
     },
     "metadata": {},
     "execution_count": 162
    },
    {
     "output_type": "display_data",
     "data": {
      "text/plain": "<Figure size 432x432 with 1 Axes>",
      "image/svg+xml": "<?xml version=\"1.0\" encoding=\"utf-8\" standalone=\"no\"?>\n<!DOCTYPE svg PUBLIC \"-//W3C//DTD SVG 1.1//EN\"\n  \"http://www.w3.org/Graphics/SVG/1.1/DTD/svg11.dtd\">\n<svg height=\"333.960099pt\" version=\"1.1\" viewBox=\"0 0 392.062186 333.960099\" width=\"392.062186pt\" xmlns=\"http://www.w3.org/2000/svg\" xmlns:xlink=\"http://www.w3.org/1999/xlink\">\n <metadata>\n  <rdf:RDF xmlns:cc=\"http://creativecommons.org/ns#\" xmlns:dc=\"http://purl.org/dc/elements/1.1/\" xmlns:rdf=\"http://www.w3.org/1999/02/22-rdf-syntax-ns#\">\n   <cc:Work>\n    <dc:type rdf:resource=\"http://purl.org/dc/dcmitype/StillImage\"/>\n    <dc:date>2021-06-15T00:13:23.378760</dc:date>\n    <dc:format>image/svg+xml</dc:format>\n    <dc:creator>\n     <cc:Agent>\n      <dc:title>Matplotlib v3.4.2, https://matplotlib.org/</dc:title>\n     </cc:Agent>\n    </dc:creator>\n   </cc:Work>\n  </rdf:RDF>\n </metadata>\n <defs>\n  <style type=\"text/css\">*{stroke-linecap:butt;stroke-linejoin:round;}</style>\n </defs>\n <g id=\"figure_1\">\n  <g id=\"patch_1\">\n   <path d=\"M 0 333.960099 \nL 392.062186 333.960099 \nL 392.062186 0 \nL 0 0 \nz\n\" style=\"fill:none;\"/>\n  </g>\n  <g id=\"axes_1\">\n   <g id=\"patch_2\">\n    <path d=\"M 42.828125 297.403849 \nL 377.628125 297.403849 \nL 377.628125 17.798437 \nL 42.828125 17.798437 \nz\n\" style=\"fill:#ffffff;\"/>\n   </g>\n   <g id=\"PatchCollection_1\">\n    <path clip-path=\"url(#p37149e1d09)\" d=\"M 58.046307 260.503204 \nL 98.072866 260.503204 \nL 98.072866 220.915185 \nL 58.046307 220.915185 \nL 58.046307 260.503204 \n\" style=\"fill:#1f77b4;\"/>\n    <path clip-path=\"url(#p37149e1d09)\" d=\"M 157.771021 254.137256 \nL 191.606401 254.137256 \nL 191.606401 214.542187 \nL 157.771021 214.542187 \nL 157.771021 254.137256 \n\" style=\"fill:#1f77b4;\"/>\n    <path clip-path=\"url(#p37149e1d09)\" d=\"M 116.441978 133.438035 \nL 119.771197 133.438035 \nL 119.771197 130.455979 \nL 116.441978 130.455979 \nL 116.441978 133.438035 \n\" style=\"fill:#1f77b4;\"/>\n    <path clip-path=\"url(#p37149e1d09)\" d=\"M 226.043376 260.749946 \nL 243.358236 260.749946 \nL 243.358236 236.304847 \nL 226.043376 236.304847 \nL 226.043376 260.749946 \n\" style=\"fill:#1f77b4;\"/>\n    <path clip-path=\"url(#p37149e1d09)\" d=\"M 219.382017 270.168448 \nL 222.089198 270.168448 \nL 222.089198 267.471908 \nL 219.382017 267.471908 \nL 219.382017 270.168448 \n\" style=\"fill:#1f77b4;\"/>\n    <path clip-path=\"url(#p37149e1d09)\" d=\"M 136.989685 94.748862 \nL 162.44653 94.748862 \nL 162.44653 76.535764 \nL 136.989685 76.535764 \nL 136.989685 94.748862 \n\" style=\"fill:#1f77b4;\"/>\n    <path clip-path=\"url(#p37149e1d09)\" d=\"M 309.063587 248.550308 \nL 324.074277 248.550308 \nL 324.074277 233.224094 \nL 309.063587 233.224094 \nL 309.063587 248.550308 \n\" style=\"fill:#1f77b4;\"/>\n    <path clip-path=\"url(#p37149e1d09)\" d=\"M 196.769611 220.679017 \nL 217.451654 220.679017 \nL 217.451654 202.180404 \nL 196.769611 202.180404 \nL 196.769611 220.679017 \n\" style=\"fill:#1f77b4;\"/>\n    <path clip-path=\"url(#p37149e1d09)\" d=\"M 324.932865 256.460157 \nL 341.01533 256.460157 \nL 341.01533 242.868189 \nL 324.932865 242.868189 \nL 324.932865 256.460157 \n\" style=\"fill:#1f77b4;\"/>\n    <path clip-path=\"url(#p37149e1d09)\" d=\"M 246.661172 71.382378 \nL 279.433537 71.382378 \nL 279.433537 35.432043 \nL 246.661172 35.432043 \nL 246.661172 71.382378 \n\" style=\"fill:#1f77b4;\"/>\n    <path clip-path=\"url(#p37149e1d09)\" d=\"M 328.746865 89.042068 \nL 331.261302 89.042068 \nL 331.261302 86.29618 \nL 328.746865 86.29618 \nL 328.746865 89.042068 \n\" style=\"fill:#1f77b4;\"/>\n    <path clip-path=\"url(#p37149e1d09)\" d=\"M 172.807994 45.030314 \nL 186.139472 45.030314 \nL 186.139472 30.507774 \nL 172.807994 30.507774 \nL 172.807994 45.030314 \n\" style=\"fill:#1f77b4;\"/>\n    <path clip-path=\"url(#p37149e1d09)\" d=\"M 152.339137 272.31158 \nL 180.546968 272.31158 \nL 180.546968 254.179555 \nL 152.339137 254.179555 \nL 152.339137 272.31158 \n\" style=\"fill:#1f77b4;\"/>\n    <path clip-path=\"url(#p37149e1d09)\" d=\"M 128.088404 80.677508 \nL 160.948381 80.677508 \nL 160.948381 42.92948 \nL 128.088404 42.92948 \nL 128.088404 80.677508 \n\" style=\"fill:#1f77b4;\"/>\n    <path clip-path=\"url(#p37149e1d09)\" d=\"M 102.342443 145.40503 \nL 118.229243 145.40503 \nL 118.229243 113.081805 \nL 102.342443 113.081805 \nL 102.342443 145.40503 \n\" style=\"fill:#1f77b4;\"/>\n    <path clip-path=\"url(#p37149e1d09)\" d=\"M 215.223414 274.49701 \nL 216.631031 274.49701 \nL 216.631031 273.09058 \nL 215.223414 273.09058 \nL 215.223414 274.49701 \n\" style=\"fill:#1f77b4;\"/>\n    <path clip-path=\"url(#p37149e1d09)\" d=\"M 303.92374 284.694512 \nL 319.705407 284.694512 \nL 319.705407 270.55266 \nL 303.92374 270.55266 \nL 303.92374 284.694512 \n\" style=\"fill:#1f77b4;\"/>\n    <path clip-path=\"url(#p37149e1d09)\" d=\"M 216.169613 141.175164 \nL 237.400686 141.175164 \nL 237.400686 100.871593 \nL 216.169613 100.871593 \nL 216.169613 141.175164 \n\" style=\"fill:#1f77b4;\"/>\n    <path clip-path=\"url(#p37149e1d09)\" d=\"M 217.273512 283.82034 \nL 218.678209 283.82034 \nL 218.678209 282.417434 \nL 217.273512 282.417434 \nL 217.273512 283.82034 \n\" style=\"fill:#1f77b4;\"/>\n    <path clip-path=\"url(#p37149e1d09)\" d=\"M 252.157303 260.178914 \nL 275.412191 260.178914 \nL 275.412191 232.801108 \nL 252.157303 232.801108 \nL 252.157303 260.178914 \n\" style=\"fill:#1f77b4;\"/>\n    <path clip-path=\"url(#p37149e1d09)\" d=\"M 228.254094 267.42256 \nL 229.720119 267.42256 \nL 229.720119 265.963256 \nL 228.254094 265.963256 \nL 228.254094 267.42256 \n\" style=\"fill:#1f77b4;\"/>\n    <path clip-path=\"url(#p37149e1d09)\" d=\"M 173.871008 197.932914 \nL 192.885522 197.932914 \nL 192.885522 177.111399 \nL 173.871008 177.111399 \nL 173.871008 197.932914 \n\" style=\"fill:#1f77b4;\"/>\n    <path clip-path=\"url(#p37149e1d09)\" d=\"M 212.367294 182.983863 \nL 231.962961 182.983863 \nL 231.962961 162.828552 \nL 212.367294 162.828552 \nL 212.367294 182.983863 \n\" style=\"fill:#1f77b4;\"/>\n    <path clip-path=\"url(#p37149e1d09)\" d=\"M 126.447158 126.229638 \nL 140.018106 126.229638 \nL 140.018106 114.167471 \nL 126.447158 114.167471 \nL 126.447158 126.229638 \n\" style=\"fill:#1f77b4;\"/>\n    <path clip-path=\"url(#p37149e1d09)\" d=\"M 317.716637 252.008224 \nL 328.422705 252.008224 \nL 328.422705 239.748663 \nL 317.716637 239.748663 \nL 317.716637 252.008224 \n\" style=\"fill:#1f77b4;\"/>\n    <path clip-path=\"url(#p37149e1d09)\" d=\"M 156.778096 69.440164 \nL 182.14733 69.440164 \nL 182.14733 51.269366 \nL 156.778096 51.269366 \nL 156.778096 69.440164 \n\" style=\"fill:#1f77b4;\"/>\n    <path clip-path=\"url(#p37149e1d09)\" d=\"M 187.55293 250.182332 \nL 205.711776 250.182332 \nL 205.711776 221.637787 \nL 187.55293 221.637787 \nL 187.55293 250.182332 \n\" style=\"fill:#1f77b4;\"/>\n    <path clip-path=\"url(#p37149e1d09)\" d=\"M 144.927244 219.336035 \nL 163.436534 219.336035 \nL 163.436534 200.555431 \nL 144.927244 200.555431 \nL 144.927244 219.336035 \n\" style=\"fill:#1f77b4;\"/>\n    <path clip-path=\"url(#p37149e1d09)\" d=\"M 215.994391 273.541766 \nL 217.399088 273.541766 \nL 217.399088 272.135335 \nL 215.994391 272.135335 \nL 215.994391 273.541766 \n\" style=\"fill:#1f77b4;\"/>\n    <path clip-path=\"url(#p37149e1d09)\" d=\"M 83.313328 147.60456 \nL 89.507427 147.60456 \nL 89.507427 144.181894 \nL 83.313328 144.181894 \nL 83.313328 147.60456 \n\" style=\"fill:#1f77b4;\"/>\n    <path clip-path=\"url(#p37149e1d09)\" d=\"M 129.510623 129.62763 \nL 132.02506 129.62763 \nL 132.02506 127.350553 \nL 129.510623 127.350553 \nL 129.510623 129.62763 \n\" style=\"fill:#1f77b4;\"/>\n    <path clip-path=\"url(#p37149e1d09)\" d=\"M 135.792334 279.312008 \nL 153.136398 279.312008 \nL 153.136398 273.280924 \nL 135.792334 273.280924 \nL 135.792334 279.312008 \n\" style=\"fill:#1f77b4;\"/>\n    <path clip-path=\"url(#p37149e1d09)\" d=\"M 298.36336 171.605524 \nL 362.409943 171.605524 \nL 362.409943 114.826625 \nL 298.36336 114.826625 \nL 298.36336 171.605524 \n\" style=\"fill:#1f77b4;\"/>\n    <path clip-path=\"url(#p37149e1d09)\" d=\"M 198.962807 269.442321 \nL 217.951037 269.442321 \nL 217.951037 246.738516 \nL 198.962807 246.738516 \nL 198.962807 269.442321 \n\" style=\"fill:#1f77b4;\"/>\n    <path clip-path=\"url(#p37149e1d09)\" d=\"M 183.835302 53.750887 \nL 191.664808 53.750887 \nL 191.664808 45.495599 \nL 183.835302 45.495599 \nL 183.835302 53.750887 \n\" style=\"fill:#1f77b4;\"/>\n    <path clip-path=\"url(#p37149e1d09)\" d=\"M 227.255329 170.333039 \nL 274.302451 170.333039 \nL 274.302451 122.362836 \nL 227.255329 122.362836 \nL 227.255329 170.333039 \n\" style=\"fill:#1f77b4;\"/>\n    <path clip-path=\"url(#p37149e1d09)\" d=\"M 298.088846 66.944544 \nL 300.886558 66.944544 \nL 300.886558 64.424249 \nL 298.088846 64.424249 \nL 298.088846 66.944544 \n\" style=\"fill:#1f77b4;\"/>\n    <path clip-path=\"url(#p37149e1d09)\" d=\"M 212.939686 177.855151 \nL 214.580933 177.855151 \nL 214.580933 176.230177 \nL 212.939686 176.230177 \nL 212.939686 177.855151 \n\" style=\"fill:#1f77b4;\"/>\n    <path clip-path=\"url(#p37149e1d09)\" d=\"M 108.9892 52.785068 \nL 124.470069 52.785068 \nL 124.470069 37.88184 \nL 108.9892 37.88184 \nL 108.9892 52.785068 \n\" style=\"fill:#1f77b4;\"/>\n    <path clip-path=\"url(#p37149e1d09)\" d=\"M 93.540455 282.153068 \nL 133.946662 282.153068 \nL 133.946662 241.909419 \nL 93.540455 241.909419 \nL 93.540455 282.153068 \n\" style=\"fill:#1f77b4;\"/>\n    <path clip-path=\"url(#p37149e1d09)\" d=\"M 214.4758 275.480454 \nL 215.880497 275.480454 \nL 215.880497 274.074024 \nL 214.4758 274.074024 \nL 214.4758 275.480454 \n\" style=\"fill:#1f77b4;\"/>\n    <path clip-path=\"url(#p37149e1d09)\" d=\"M 136.811543 117.801631 \nL 139.101111 117.801631 \nL 139.101111 115.270761 \nL 136.811543 115.270761 \nL 136.811543 117.801631 \n\" style=\"fill:#1f77b4;\"/>\n   </g>\n   <g id=\"matplotlib.axis_1\">\n    <g id=\"xtick_1\">\n     <g id=\"line2d_1\">\n      <defs>\n       <path d=\"M 0 0 \nL 0 3.5 \n\" id=\"md3a253831a\" style=\"stroke:#000000;stroke-width:0.8;\"/>\n      </defs>\n      <g>\n       <use style=\"stroke:#000000;stroke-width:0.8;\" x=\"74.321516\" xlink:href=\"#md3a253831a\" y=\"297.403849\"/>\n      </g>\n     </g>\n     <g id=\"text_1\">\n      <!-- −0.056 -->\n      <g transform=\"translate(55.817609 312.002286)scale(0.1 -0.1)\">\n       <defs>\n        <path d=\"M 678 2272 \nL 4684 2272 \nL 4684 1741 \nL 678 1741 \nL 678 2272 \nz\n\" id=\"DejaVuSans-2212\" transform=\"scale(0.015625)\"/>\n        <path d=\"M 2034 4250 \nQ 1547 4250 1301 3770 \nQ 1056 3291 1056 2328 \nQ 1056 1369 1301 889 \nQ 1547 409 2034 409 \nQ 2525 409 2770 889 \nQ 3016 1369 3016 2328 \nQ 3016 3291 2770 3770 \nQ 2525 4250 2034 4250 \nz\nM 2034 4750 \nQ 2819 4750 3233 4129 \nQ 3647 3509 3647 2328 \nQ 3647 1150 3233 529 \nQ 2819 -91 2034 -91 \nQ 1250 -91 836 529 \nQ 422 1150 422 2328 \nQ 422 3509 836 4129 \nQ 1250 4750 2034 4750 \nz\n\" id=\"DejaVuSans-30\" transform=\"scale(0.015625)\"/>\n        <path d=\"M 684 794 \nL 1344 794 \nL 1344 0 \nL 684 0 \nL 684 794 \nz\n\" id=\"DejaVuSans-2e\" transform=\"scale(0.015625)\"/>\n        <path d=\"M 691 4666 \nL 3169 4666 \nL 3169 4134 \nL 1269 4134 \nL 1269 2991 \nQ 1406 3038 1543 3061 \nQ 1681 3084 1819 3084 \nQ 2600 3084 3056 2656 \nQ 3513 2228 3513 1497 \nQ 3513 744 3044 326 \nQ 2575 -91 1722 -91 \nQ 1428 -91 1123 -41 \nQ 819 9 494 109 \nL 494 744 \nQ 775 591 1075 516 \nQ 1375 441 1709 441 \nQ 2250 441 2565 725 \nQ 2881 1009 2881 1497 \nQ 2881 1984 2565 2268 \nQ 2250 2553 1709 2553 \nQ 1456 2553 1204 2497 \nQ 953 2441 691 2322 \nL 691 4666 \nz\n\" id=\"DejaVuSans-35\" transform=\"scale(0.015625)\"/>\n        <path d=\"M 2113 2584 \nQ 1688 2584 1439 2293 \nQ 1191 2003 1191 1497 \nQ 1191 994 1439 701 \nQ 1688 409 2113 409 \nQ 2538 409 2786 701 \nQ 3034 994 3034 1497 \nQ 3034 2003 2786 2293 \nQ 2538 2584 2113 2584 \nz\nM 3366 4563 \nL 3366 3988 \nQ 3128 4100 2886 4159 \nQ 2644 4219 2406 4219 \nQ 1781 4219 1451 3797 \nQ 1122 3375 1075 2522 \nQ 1259 2794 1537 2939 \nQ 1816 3084 2150 3084 \nQ 2853 3084 3261 2657 \nQ 3669 2231 3669 1497 \nQ 3669 778 3244 343 \nQ 2819 -91 2113 -91 \nQ 1303 -91 875 529 \nQ 447 1150 447 2328 \nQ 447 3434 972 4092 \nQ 1497 4750 2381 4750 \nQ 2619 4750 2861 4703 \nQ 3103 4656 3366 4563 \nz\n\" id=\"DejaVuSans-36\" transform=\"scale(0.015625)\"/>\n       </defs>\n       <use xlink:href=\"#DejaVuSans-2212\"/>\n       <use x=\"83.789062\" xlink:href=\"#DejaVuSans-30\"/>\n       <use x=\"147.412109\" xlink:href=\"#DejaVuSans-2e\"/>\n       <use x=\"179.199219\" xlink:href=\"#DejaVuSans-30\"/>\n       <use x=\"242.822266\" xlink:href=\"#DejaVuSans-35\"/>\n       <use x=\"306.445312\" xlink:href=\"#DejaVuSans-36\"/>\n      </g>\n     </g>\n    </g>\n    <g id=\"xtick_2\">\n     <g id=\"line2d_2\">\n      <g>\n       <use style=\"stroke:#000000;stroke-width:0.8;\" x=\"132.728869\" xlink:href=\"#md3a253831a\" y=\"297.403849\"/>\n      </g>\n     </g>\n     <g id=\"text_2\">\n      <!-- −0.054 -->\n      <g transform=\"translate(114.224962 312.002286)scale(0.1 -0.1)\">\n       <defs>\n        <path d=\"M 2419 4116 \nL 825 1625 \nL 2419 1625 \nL 2419 4116 \nz\nM 2253 4666 \nL 3047 4666 \nL 3047 1625 \nL 3713 1625 \nL 3713 1100 \nL 3047 1100 \nL 3047 0 \nL 2419 0 \nL 2419 1100 \nL 313 1100 \nL 313 1709 \nL 2253 4666 \nz\n\" id=\"DejaVuSans-34\" transform=\"scale(0.015625)\"/>\n       </defs>\n       <use xlink:href=\"#DejaVuSans-2212\"/>\n       <use x=\"83.789062\" xlink:href=\"#DejaVuSans-30\"/>\n       <use x=\"147.412109\" xlink:href=\"#DejaVuSans-2e\"/>\n       <use x=\"179.199219\" xlink:href=\"#DejaVuSans-30\"/>\n       <use x=\"242.822266\" xlink:href=\"#DejaVuSans-35\"/>\n       <use x=\"306.445312\" xlink:href=\"#DejaVuSans-34\"/>\n      </g>\n     </g>\n    </g>\n    <g id=\"xtick_3\">\n     <g id=\"line2d_3\">\n      <g>\n       <use style=\"stroke:#000000;stroke-width:0.8;\" x=\"191.136222\" xlink:href=\"#md3a253831a\" y=\"297.403849\"/>\n      </g>\n     </g>\n     <g id=\"text_3\">\n      <!-- −0.052 -->\n      <g transform=\"translate(172.632315 312.002286)scale(0.1 -0.1)\">\n       <defs>\n        <path d=\"M 1228 531 \nL 3431 531 \nL 3431 0 \nL 469 0 \nL 469 531 \nQ 828 903 1448 1529 \nQ 2069 2156 2228 2338 \nQ 2531 2678 2651 2914 \nQ 2772 3150 2772 3378 \nQ 2772 3750 2511 3984 \nQ 2250 4219 1831 4219 \nQ 1534 4219 1204 4116 \nQ 875 4013 500 3803 \nL 500 4441 \nQ 881 4594 1212 4672 \nQ 1544 4750 1819 4750 \nQ 2544 4750 2975 4387 \nQ 3406 4025 3406 3419 \nQ 3406 3131 3298 2873 \nQ 3191 2616 2906 2266 \nQ 2828 2175 2409 1742 \nQ 1991 1309 1228 531 \nz\n\" id=\"DejaVuSans-32\" transform=\"scale(0.015625)\"/>\n       </defs>\n       <use xlink:href=\"#DejaVuSans-2212\"/>\n       <use x=\"83.789062\" xlink:href=\"#DejaVuSans-30\"/>\n       <use x=\"147.412109\" xlink:href=\"#DejaVuSans-2e\"/>\n       <use x=\"179.199219\" xlink:href=\"#DejaVuSans-30\"/>\n       <use x=\"242.822266\" xlink:href=\"#DejaVuSans-35\"/>\n       <use x=\"306.445312\" xlink:href=\"#DejaVuSans-32\"/>\n      </g>\n     </g>\n    </g>\n    <g id=\"xtick_4\">\n     <g id=\"line2d_4\">\n      <g>\n       <use style=\"stroke:#000000;stroke-width:0.8;\" x=\"249.543574\" xlink:href=\"#md3a253831a\" y=\"297.403849\"/>\n      </g>\n     </g>\n     <g id=\"text_4\">\n      <!-- −0.050 -->\n      <g transform=\"translate(231.039668 312.002286)scale(0.1 -0.1)\">\n       <use xlink:href=\"#DejaVuSans-2212\"/>\n       <use x=\"83.789062\" xlink:href=\"#DejaVuSans-30\"/>\n       <use x=\"147.412109\" xlink:href=\"#DejaVuSans-2e\"/>\n       <use x=\"179.199219\" xlink:href=\"#DejaVuSans-30\"/>\n       <use x=\"242.822266\" xlink:href=\"#DejaVuSans-35\"/>\n       <use x=\"306.445312\" xlink:href=\"#DejaVuSans-30\"/>\n      </g>\n     </g>\n    </g>\n    <g id=\"xtick_5\">\n     <g id=\"line2d_5\">\n      <g>\n       <use style=\"stroke:#000000;stroke-width:0.8;\" x=\"307.950927\" xlink:href=\"#md3a253831a\" y=\"297.403849\"/>\n      </g>\n     </g>\n     <g id=\"text_5\">\n      <!-- −0.048 -->\n      <g transform=\"translate(289.447021 312.002286)scale(0.1 -0.1)\">\n       <defs>\n        <path d=\"M 2034 2216 \nQ 1584 2216 1326 1975 \nQ 1069 1734 1069 1313 \nQ 1069 891 1326 650 \nQ 1584 409 2034 409 \nQ 2484 409 2743 651 \nQ 3003 894 3003 1313 \nQ 3003 1734 2745 1975 \nQ 2488 2216 2034 2216 \nz\nM 1403 2484 \nQ 997 2584 770 2862 \nQ 544 3141 544 3541 \nQ 544 4100 942 4425 \nQ 1341 4750 2034 4750 \nQ 2731 4750 3128 4425 \nQ 3525 4100 3525 3541 \nQ 3525 3141 3298 2862 \nQ 3072 2584 2669 2484 \nQ 3125 2378 3379 2068 \nQ 3634 1759 3634 1313 \nQ 3634 634 3220 271 \nQ 2806 -91 2034 -91 \nQ 1263 -91 848 271 \nQ 434 634 434 1313 \nQ 434 1759 690 2068 \nQ 947 2378 1403 2484 \nz\nM 1172 3481 \nQ 1172 3119 1398 2916 \nQ 1625 2713 2034 2713 \nQ 2441 2713 2670 2916 \nQ 2900 3119 2900 3481 \nQ 2900 3844 2670 4047 \nQ 2441 4250 2034 4250 \nQ 1625 4250 1398 4047 \nQ 1172 3844 1172 3481 \nz\n\" id=\"DejaVuSans-38\" transform=\"scale(0.015625)\"/>\n       </defs>\n       <use xlink:href=\"#DejaVuSans-2212\"/>\n       <use x=\"83.789062\" xlink:href=\"#DejaVuSans-30\"/>\n       <use x=\"147.412109\" xlink:href=\"#DejaVuSans-2e\"/>\n       <use x=\"179.199219\" xlink:href=\"#DejaVuSans-30\"/>\n       <use x=\"242.822266\" xlink:href=\"#DejaVuSans-34\"/>\n       <use x=\"306.445312\" xlink:href=\"#DejaVuSans-38\"/>\n      </g>\n     </g>\n    </g>\n    <g id=\"xtick_6\">\n     <g id=\"line2d_6\">\n      <g>\n       <use style=\"stroke:#000000;stroke-width:0.8;\" x=\"366.35828\" xlink:href=\"#md3a253831a\" y=\"297.403849\"/>\n      </g>\n     </g>\n     <g id=\"text_6\">\n      <!-- −0.046 -->\n      <g transform=\"translate(347.854374 312.002286)scale(0.1 -0.1)\">\n       <use xlink:href=\"#DejaVuSans-2212\"/>\n       <use x=\"83.789062\" xlink:href=\"#DejaVuSans-30\"/>\n       <use x=\"147.412109\" xlink:href=\"#DejaVuSans-2e\"/>\n       <use x=\"179.199219\" xlink:href=\"#DejaVuSans-30\"/>\n       <use x=\"242.822266\" xlink:href=\"#DejaVuSans-34\"/>\n       <use x=\"306.445312\" xlink:href=\"#DejaVuSans-36\"/>\n      </g>\n     </g>\n    </g>\n    <g id=\"text_7\">\n     <!-- −1.1820000000e2 -->\n     <g transform=\"translate(283.567187 324.680411)scale(0.1 -0.1)\">\n      <defs>\n       <path d=\"M 794 531 \nL 1825 531 \nL 1825 4091 \nL 703 3866 \nL 703 4441 \nL 1819 4666 \nL 2450 4666 \nL 2450 531 \nL 3481 531 \nL 3481 0 \nL 794 0 \nL 794 531 \nz\n\" id=\"DejaVuSans-31\" transform=\"scale(0.015625)\"/>\n       <path d=\"M 3597 1894 \nL 3597 1613 \nL 953 1613 \nQ 991 1019 1311 708 \nQ 1631 397 2203 397 \nQ 2534 397 2845 478 \nQ 3156 559 3463 722 \nL 3463 178 \nQ 3153 47 2828 -22 \nQ 2503 -91 2169 -91 \nQ 1331 -91 842 396 \nQ 353 884 353 1716 \nQ 353 2575 817 3079 \nQ 1281 3584 2069 3584 \nQ 2775 3584 3186 3129 \nQ 3597 2675 3597 1894 \nz\nM 3022 2063 \nQ 3016 2534 2758 2815 \nQ 2500 3097 2075 3097 \nQ 1594 3097 1305 2825 \nQ 1016 2553 972 2059 \nL 3022 2063 \nz\n\" id=\"DejaVuSans-65\" transform=\"scale(0.015625)\"/>\n      </defs>\n      <use xlink:href=\"#DejaVuSans-2212\"/>\n      <use x=\"83.789062\" xlink:href=\"#DejaVuSans-31\"/>\n      <use x=\"147.412109\" xlink:href=\"#DejaVuSans-2e\"/>\n      <use x=\"179.199219\" xlink:href=\"#DejaVuSans-31\"/>\n      <use x=\"242.822266\" xlink:href=\"#DejaVuSans-38\"/>\n      <use x=\"306.445312\" xlink:href=\"#DejaVuSans-32\"/>\n      <use x=\"370.068359\" xlink:href=\"#DejaVuSans-30\"/>\n      <use x=\"433.691406\" xlink:href=\"#DejaVuSans-30\"/>\n      <use x=\"497.314453\" xlink:href=\"#DejaVuSans-30\"/>\n      <use x=\"560.9375\" xlink:href=\"#DejaVuSans-30\"/>\n      <use x=\"624.560547\" xlink:href=\"#DejaVuSans-30\"/>\n      <use x=\"688.183594\" xlink:href=\"#DejaVuSans-30\"/>\n      <use x=\"751.806641\" xlink:href=\"#DejaVuSans-30\"/>\n      <use x=\"815.429688\" xlink:href=\"#DejaVuSans-65\"/>\n      <use x=\"876.953125\" xlink:href=\"#DejaVuSans-32\"/>\n     </g>\n    </g>\n   </g>\n   <g id=\"matplotlib.axis_2\">\n    <g id=\"ytick_1\">\n     <g id=\"line2d_7\">\n      <defs>\n       <path d=\"M 0 0 \nL -3.5 0 \n\" id=\"md48377fcf4\" style=\"stroke:#000000;stroke-width:0.8;\"/>\n      </defs>\n      <g>\n       <use style=\"stroke:#000000;stroke-width:0.8;\" x=\"42.828125\" xlink:href=\"#md48377fcf4\" y=\"267.080646\"/>\n      </g>\n     </g>\n     <g id=\"text_8\">\n      <!-- 0.002 -->\n      <g transform=\"translate(7.2 270.879864)scale(0.1 -0.1)\">\n       <use xlink:href=\"#DejaVuSans-30\"/>\n       <use x=\"63.623047\" xlink:href=\"#DejaVuSans-2e\"/>\n       <use x=\"95.410156\" xlink:href=\"#DejaVuSans-30\"/>\n       <use x=\"159.033203\" xlink:href=\"#DejaVuSans-30\"/>\n       <use x=\"222.65625\" xlink:href=\"#DejaVuSans-32\"/>\n      </g>\n     </g>\n    </g>\n    <g id=\"ytick_2\">\n     <g id=\"line2d_8\">\n      <g>\n       <use style=\"stroke:#000000;stroke-width:0.8;\" x=\"42.828125\" xlink:href=\"#md48377fcf4\" y=\"231.831764\"/>\n      </g>\n     </g>\n     <g id=\"text_9\">\n      <!-- 0.003 -->\n      <g transform=\"translate(7.2 235.630982)scale(0.1 -0.1)\">\n       <defs>\n        <path d=\"M 2597 2516 \nQ 3050 2419 3304 2112 \nQ 3559 1806 3559 1356 \nQ 3559 666 3084 287 \nQ 2609 -91 1734 -91 \nQ 1441 -91 1130 -33 \nQ 819 25 488 141 \nL 488 750 \nQ 750 597 1062 519 \nQ 1375 441 1716 441 \nQ 2309 441 2620 675 \nQ 2931 909 2931 1356 \nQ 2931 1769 2642 2001 \nQ 2353 2234 1838 2234 \nL 1294 2234 \nL 1294 2753 \nL 1863 2753 \nQ 2328 2753 2575 2939 \nQ 2822 3125 2822 3475 \nQ 2822 3834 2567 4026 \nQ 2313 4219 1838 4219 \nQ 1578 4219 1281 4162 \nQ 984 4106 628 3988 \nL 628 4550 \nQ 988 4650 1302 4700 \nQ 1616 4750 1894 4750 \nQ 2613 4750 3031 4423 \nQ 3450 4097 3450 3541 \nQ 3450 3153 3228 2886 \nQ 3006 2619 2597 2516 \nz\n\" id=\"DejaVuSans-33\" transform=\"scale(0.015625)\"/>\n       </defs>\n       <use xlink:href=\"#DejaVuSans-30\"/>\n       <use x=\"63.623047\" xlink:href=\"#DejaVuSans-2e\"/>\n       <use x=\"95.410156\" xlink:href=\"#DejaVuSans-30\"/>\n       <use x=\"159.033203\" xlink:href=\"#DejaVuSans-30\"/>\n       <use x=\"222.65625\" xlink:href=\"#DejaVuSans-33\"/>\n      </g>\n     </g>\n    </g>\n    <g id=\"ytick_3\">\n     <g id=\"line2d_9\">\n      <g>\n       <use style=\"stroke:#000000;stroke-width:0.8;\" x=\"42.828125\" xlink:href=\"#md48377fcf4\" y=\"196.582882\"/>\n      </g>\n     </g>\n     <g id=\"text_10\">\n      <!-- 0.004 -->\n      <g transform=\"translate(7.2 200.3821)scale(0.1 -0.1)\">\n       <use xlink:href=\"#DejaVuSans-30\"/>\n       <use x=\"63.623047\" xlink:href=\"#DejaVuSans-2e\"/>\n       <use x=\"95.410156\" xlink:href=\"#DejaVuSans-30\"/>\n       <use x=\"159.033203\" xlink:href=\"#DejaVuSans-30\"/>\n       <use x=\"222.65625\" xlink:href=\"#DejaVuSans-34\"/>\n      </g>\n     </g>\n    </g>\n    <g id=\"ytick_4\">\n     <g id=\"line2d_10\">\n      <g>\n       <use style=\"stroke:#000000;stroke-width:0.8;\" x=\"42.828125\" xlink:href=\"#md48377fcf4\" y=\"161.334\"/>\n      </g>\n     </g>\n     <g id=\"text_11\">\n      <!-- 0.005 -->\n      <g transform=\"translate(7.2 165.133218)scale(0.1 -0.1)\">\n       <use xlink:href=\"#DejaVuSans-30\"/>\n       <use x=\"63.623047\" xlink:href=\"#DejaVuSans-2e\"/>\n       <use x=\"95.410156\" xlink:href=\"#DejaVuSans-30\"/>\n       <use x=\"159.033203\" xlink:href=\"#DejaVuSans-30\"/>\n       <use x=\"222.65625\" xlink:href=\"#DejaVuSans-35\"/>\n      </g>\n     </g>\n    </g>\n    <g id=\"ytick_5\">\n     <g id=\"line2d_11\">\n      <g>\n       <use style=\"stroke:#000000;stroke-width:0.8;\" x=\"42.828125\" xlink:href=\"#md48377fcf4\" y=\"126.085118\"/>\n      </g>\n     </g>\n     <g id=\"text_12\">\n      <!-- 0.006 -->\n      <g transform=\"translate(7.2 129.884337)scale(0.1 -0.1)\">\n       <use xlink:href=\"#DejaVuSans-30\"/>\n       <use x=\"63.623047\" xlink:href=\"#DejaVuSans-2e\"/>\n       <use x=\"95.410156\" xlink:href=\"#DejaVuSans-30\"/>\n       <use x=\"159.033203\" xlink:href=\"#DejaVuSans-30\"/>\n       <use x=\"222.65625\" xlink:href=\"#DejaVuSans-36\"/>\n      </g>\n     </g>\n    </g>\n    <g id=\"ytick_6\">\n     <g id=\"line2d_12\">\n      <g>\n       <use style=\"stroke:#000000;stroke-width:0.8;\" x=\"42.828125\" xlink:href=\"#md48377fcf4\" y=\"90.836236\"/>\n      </g>\n     </g>\n     <g id=\"text_13\">\n      <!-- 0.007 -->\n      <g transform=\"translate(7.2 94.635455)scale(0.1 -0.1)\">\n       <defs>\n        <path d=\"M 525 4666 \nL 3525 4666 \nL 3525 4397 \nL 1831 0 \nL 1172 0 \nL 2766 4134 \nL 525 4134 \nL 525 4666 \nz\n\" id=\"DejaVuSans-37\" transform=\"scale(0.015625)\"/>\n       </defs>\n       <use xlink:href=\"#DejaVuSans-30\"/>\n       <use x=\"63.623047\" xlink:href=\"#DejaVuSans-2e\"/>\n       <use x=\"95.410156\" xlink:href=\"#DejaVuSans-30\"/>\n       <use x=\"159.033203\" xlink:href=\"#DejaVuSans-30\"/>\n       <use x=\"222.65625\" xlink:href=\"#DejaVuSans-37\"/>\n      </g>\n     </g>\n    </g>\n    <g id=\"ytick_7\">\n     <g id=\"line2d_13\">\n      <g>\n       <use style=\"stroke:#000000;stroke-width:0.8;\" x=\"42.828125\" xlink:href=\"#md48377fcf4\" y=\"55.587354\"/>\n      </g>\n     </g>\n     <g id=\"text_14\">\n      <!-- 0.008 -->\n      <g transform=\"translate(7.2 59.386573)scale(0.1 -0.1)\">\n       <use xlink:href=\"#DejaVuSans-30\"/>\n       <use x=\"63.623047\" xlink:href=\"#DejaVuSans-2e\"/>\n       <use x=\"95.410156\" xlink:href=\"#DejaVuSans-30\"/>\n       <use x=\"159.033203\" xlink:href=\"#DejaVuSans-30\"/>\n       <use x=\"222.65625\" xlink:href=\"#DejaVuSans-38\"/>\n      </g>\n     </g>\n    </g>\n    <g id=\"ytick_8\">\n     <g id=\"line2d_14\">\n      <g>\n       <use style=\"stroke:#000000;stroke-width:0.8;\" x=\"42.828125\" xlink:href=\"#md48377fcf4\" y=\"20.338472\"/>\n      </g>\n     </g>\n     <g id=\"text_15\">\n      <!-- 0.009 -->\n      <g transform=\"translate(7.2 24.137691)scale(0.1 -0.1)\">\n       <defs>\n        <path d=\"M 703 97 \nL 703 672 \nQ 941 559 1184 500 \nQ 1428 441 1663 441 \nQ 2288 441 2617 861 \nQ 2947 1281 2994 2138 \nQ 2813 1869 2534 1725 \nQ 2256 1581 1919 1581 \nQ 1219 1581 811 2004 \nQ 403 2428 403 3163 \nQ 403 3881 828 4315 \nQ 1253 4750 1959 4750 \nQ 2769 4750 3195 4129 \nQ 3622 3509 3622 2328 \nQ 3622 1225 3098 567 \nQ 2575 -91 1691 -91 \nQ 1453 -91 1209 -44 \nQ 966 3 703 97 \nz\nM 1959 2075 \nQ 2384 2075 2632 2365 \nQ 2881 2656 2881 3163 \nQ 2881 3666 2632 3958 \nQ 2384 4250 1959 4250 \nQ 1534 4250 1286 3958 \nQ 1038 3666 1038 3163 \nQ 1038 2656 1286 2365 \nQ 1534 2075 1959 2075 \nz\n\" id=\"DejaVuSans-39\" transform=\"scale(0.015625)\"/>\n       </defs>\n       <use xlink:href=\"#DejaVuSans-30\"/>\n       <use x=\"63.623047\" xlink:href=\"#DejaVuSans-2e\"/>\n       <use x=\"95.410156\" xlink:href=\"#DejaVuSans-30\"/>\n       <use x=\"159.033203\" xlink:href=\"#DejaVuSans-30\"/>\n       <use x=\"222.65625\" xlink:href=\"#DejaVuSans-39\"/>\n      </g>\n     </g>\n    </g>\n    <g id=\"text_16\">\n     <!-- +3.4050000000e1 -->\n     <g transform=\"translate(42.828125 14.798437)scale(0.1 -0.1)\">\n      <defs>\n       <path d=\"M 2944 4013 \nL 2944 2272 \nL 4684 2272 \nL 4684 1741 \nL 2944 1741 \nL 2944 0 \nL 2419 0 \nL 2419 1741 \nL 678 1741 \nL 678 2272 \nL 2419 2272 \nL 2419 4013 \nL 2944 4013 \nz\n\" id=\"DejaVuSans-2b\" transform=\"scale(0.015625)\"/>\n      </defs>\n      <use xlink:href=\"#DejaVuSans-2b\"/>\n      <use x=\"83.789062\" xlink:href=\"#DejaVuSans-33\"/>\n      <use x=\"147.412109\" xlink:href=\"#DejaVuSans-2e\"/>\n      <use x=\"179.199219\" xlink:href=\"#DejaVuSans-34\"/>\n      <use x=\"242.822266\" xlink:href=\"#DejaVuSans-30\"/>\n      <use x=\"306.445312\" xlink:href=\"#DejaVuSans-35\"/>\n      <use x=\"370.068359\" xlink:href=\"#DejaVuSans-30\"/>\n      <use x=\"433.691406\" xlink:href=\"#DejaVuSans-30\"/>\n      <use x=\"497.314453\" xlink:href=\"#DejaVuSans-30\"/>\n      <use x=\"560.9375\" xlink:href=\"#DejaVuSans-30\"/>\n      <use x=\"624.560547\" xlink:href=\"#DejaVuSans-30\"/>\n      <use x=\"688.183594\" xlink:href=\"#DejaVuSans-30\"/>\n      <use x=\"751.806641\" xlink:href=\"#DejaVuSans-30\"/>\n      <use x=\"815.429688\" xlink:href=\"#DejaVuSans-65\"/>\n      <use x=\"876.953125\" xlink:href=\"#DejaVuSans-31\"/>\n     </g>\n    </g>\n   </g>\n   <g id=\"patch_3\">\n    <path d=\"M 42.828125 297.403849 \nL 42.828125 17.798438 \n\" style=\"fill:none;stroke:#000000;stroke-linecap:square;stroke-linejoin:miter;stroke-width:0.8;\"/>\n   </g>\n   <g id=\"patch_4\">\n    <path d=\"M 377.628125 297.403849 \nL 377.628125 17.798438 \n\" style=\"fill:none;stroke:#000000;stroke-linecap:square;stroke-linejoin:miter;stroke-width:0.8;\"/>\n   </g>\n   <g id=\"patch_5\">\n    <path d=\"M 42.828125 297.403849 \nL 377.628125 297.403849 \n\" style=\"fill:none;stroke:#000000;stroke-linecap:square;stroke-linejoin:miter;stroke-width:0.8;\"/>\n   </g>\n   <g id=\"patch_6\">\n    <path d=\"M 42.828125 17.798437 \nL 377.628125 17.798437 \n\" style=\"fill:none;stroke:#000000;stroke-linecap:square;stroke-linejoin:miter;stroke-width:0.8;\"/>\n   </g>\n  </g>\n </g>\n <defs>\n  <clipPath id=\"p37149e1d09\">\n   <rect height=\"279.605411\" width=\"334.8\" x=\"42.828125\" y=\"17.798437\"/>\n  </clipPath>\n </defs>\n</svg>\n",
      "image/png": "[encoded data removed]"
     },
     "metadata": {
      "needs_background": "light"
     }
    }
   ],
   "source": [
    "gdf.plot(figsize=(6, 6))\n",
    "\n",
    "# fig = gdf.set_geometry('centroid')\n",
    "# fig.plot()\n",
    "\n"
   ]
  },
  {
   "cell_type": "code",
   "execution_count": 163,
   "metadata": {},
   "outputs": [
    {
     "output_type": "execute_result",
     "data": {
      "text/plain": [
       "42"
      ]
     },
     "metadata": {},
     "execution_count": 163
    }
   ],
   "source": [
    "gdf.sindex.size"
   ]
  },
  {
   "cell_type": "code",
   "execution_count": 164,
   "metadata": {},
   "outputs": [
    {
     "output_type": "execute_result",
     "data": {
      "text/plain": [
       "array([-118.2565573,   34.0515003, -118.2461352,   34.0587115])"
      ]
     },
     "metadata": {},
     "execution_count": 164
    }
   ],
   "source": [
    "'''\n",
    "    Building query points, all of them being at random locations.\n",
    "'''\n",
    "gdf.total_bounds"
   ]
  },
  {
   "cell_type": "code",
   "execution_count": null,
   "metadata": {},
   "outputs": [],
   "source": [
    "'''\n",
    "    Building TARGET.\n",
    "'''"
   ]
  }
 ]
}